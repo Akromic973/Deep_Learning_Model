{
 "cells": [
  {
   "cell_type": "markdown",
   "id": "1b907cb6-b7ba-482d-91c6-a88fc0286a61",
   "metadata": {},
   "source": [
    "# Deep Learning (Neural Network)"
   ]
  },
  {
   "cell_type": "code",
   "execution_count": 1,
   "id": "e5179c69-502f-4087-b763-a31366c85df5",
   "metadata": {},
   "outputs": [],
   "source": [
    "import numpy as np\n",
    "import pandas as pd \n",
    "import matplotlib.pyplot as plt\n",
    "import seaborn as sns\n",
    "from sklearn.preprocessing import MinMaxScaler"
   ]
  },
  {
   "cell_type": "code",
   "execution_count": 2,
   "id": "69761b85-7f58-496f-aeff-e93405e1f35d",
   "metadata": {},
   "outputs": [],
   "source": [
    "#Create the weight matrix for multiple layer of the Deep Learning model\n",
    "def initialisation(dimensions: list):\n",
    "    #Dictonary keeping all the hyper parameters\n",
    "    hyper_parameters = dict()\n",
    "    \n",
    "    for c in range(1, len(dimensions)):\n",
    "        hyper_parameters[\"W\"+ str(c)] = np.random.randn(dimensions[c], dimensions[c-1])\n",
    "        hyper_parameters[\"b\"+ str(c)] = np.random.randn(dimensions[c], 1)\n",
    "    return hyper_parameters"
   ]
  },
  {
   "cell_type": "code",
   "execution_count": 3,
   "id": "5fed486f-0e91-457c-b7cf-50a7812cb296",
   "metadata": {
    "scrolled": true
   },
   "outputs": [
    {
     "name": "stdout",
     "output_type": "stream",
     "text": [
      "W1: (4, 3)\n",
      "b1: (4, 1)\n",
      "W2: (8, 4)\n",
      "b2: (8, 1)\n",
      "W3: (16, 8)\n",
      "b3: (16, 1)\n",
      "W4: (1, 16)\n",
      "b4: (1, 1)\n"
     ]
    }
   ],
   "source": [
    "#Test initialisation function\n",
    "hyper_parameters = initialisation([3, 4, 8, 16, 1])\n",
    "for key, val in hyper_parameters.items():\n",
    "    print(f\"{key}: {val.shape}\")"
   ]
  },
  {
   "cell_type": "code",
   "execution_count": 4,
   "id": "6d6e4670-e6c7-4a4c-bdb0-233114a105e0",
   "metadata": {},
   "outputs": [],
   "source": [
    "#Create the Deep learning model (forward propagation)\n",
    "def forward_propagation(X, hyper_parameters):\n",
    "    # Neural network dimension (number of layer)\n",
    "    dim = len(hyper_parameters)//2\n",
    "\n",
    "    #Dictonary keeping all the activations functions\n",
    "    activations = {\n",
    "        \"A0\": X,\n",
    "    }\n",
    "    \n",
    "    #Linear and activation function for each layer\n",
    "    for c in range(1, dim + 1) :\n",
    "        W = hyper_parameters[\"W\"+str(c)]\n",
    "        b = hyper_parameters[\"b\"+str(c)]\n",
    "        A = activations[\"A\"+str(c-1)]\n",
    "\n",
    "        # Calculate linear and activation functions\n",
    "        Z = W.dot(A) + b\n",
    "        A = 1/(1 + np.exp(-Z))\n",
    "\n",
    "        #Stock activation function\n",
    "        activations[\"A\" + str(c)] = A\n",
    "        \n",
    "    return activations"
   ]
  },
  {
   "cell_type": "code",
   "execution_count": 5,
   "id": "96603f24-57d1-4590-9898-5b011d4e6682",
   "metadata": {},
   "outputs": [
    {
     "name": "stdout",
     "output_type": "stream",
     "text": [
      "A0: (3, 100)\n",
      "A1: (4, 100)\n",
      "A2: (8, 100)\n",
      "A3: (16, 100)\n",
      "A4: (1, 100)\n"
     ]
    }
   ],
   "source": [
    "#Test forward propagations functions \n",
    "X = np.random.randn(3, 100)\n",
    "activations = forward_propagation(X, hyper_parameters)\n",
    "for key, val in activations.items():\n",
    "    print(f\"{key}: {val.shape}\")"
   ]
  },
  {
   "cell_type": "code",
   "execution_count": 6,
   "id": "345ec8c8-b909-4ce6-b005-449978be81e7",
   "metadata": {},
   "outputs": [],
   "source": [
    "#Create back propagation function\n",
    "def back_propagation(y, hyper_parameters, activations):\n",
    "    # Number osf samples\n",
    "    m = y.shape[1]\n",
    "    \n",
    "    # Neural network dimension (number of layer)\n",
    "    dim = len(hyper_parameters)//2\n",
    "    \n",
    "    #Dictionary of derivatives\n",
    "    gradients = {\n",
    "        \"dZ\" + str(dim): activations[\"A\" + str(dim)] - y\n",
    "    }\n",
    "    \n",
    "    for c in reversed(range(1, dim + 1)):\n",
    "        n = str(c)\n",
    "        n_minus = str(c-1)\n",
    "        \n",
    "        gradients[\"dW\" + n] = (1/m) * np.dot(gradients[\"dZ\" + n], activations[\"A\" + n_minus].T)\n",
    "        gradients[\"db\" + n] = (1/m) * np.sum(gradients[\"dZ\" + n], axis= 1, keepdims= True)\n",
    "        \n",
    "        #Stop the calculation at dZ1 \n",
    "        if c > 1:\n",
    "            gradients[\"dZ\" + n_minus] = np.dot(hyper_parameters[\"W\" + n].T, gradients[\"dZ\" + n]) * activations[\"A\" + n_minus] * (1 - activations[\"A\" + n_minus]) \n",
    "        \n",
    "    return gradients\n",
    "            "
   ]
  },
  {
   "cell_type": "code",
   "execution_count": 7,
   "id": "38936e99-efcf-47e8-a258-dbeef77c348e",
   "metadata": {},
   "outputs": [
    {
     "name": "stdout",
     "output_type": "stream",
     "text": [
      "dZ4: (1, 100)\n",
      "dW4: (1, 16)\n",
      "db4: (1, 1)\n",
      "dZ3: (16, 100)\n",
      "dW3: (16, 8)\n",
      "db3: (16, 1)\n",
      "dZ2: (8, 100)\n",
      "dW2: (8, 4)\n",
      "db2: (8, 1)\n",
      "dZ1: (4, 100)\n",
      "dW1: (4, 3)\n",
      "db1: (4, 1)\n"
     ]
    }
   ],
   "source": [
    "#Test back propagations functions \n",
    "y = np.random.randn(1, 100)\n",
    "gradients = back_propagation(y, hyper_parameters, activations)\n",
    "for key, val in gradients.items():\n",
    "    print(f\"{key}: {val.shape}\")"
   ]
  },
  {
   "cell_type": "code",
   "execution_count": 8,
   "id": "f3a8dd22-7cb4-40fa-9032-62dbf39c7402",
   "metadata": {},
   "outputs": [],
   "source": [
    "#Create gradient descend function\n",
    "def update(gradients, hyper_parameters, learning_rate=0.1):\n",
    "    # Neural network dimension (number of layer)\n",
    "    dim = len(hyper_parameters)//2\n",
    "    \n",
    "    for c in range(1, dim + 1):\n",
    "        hyper_parameters[\"W\" + str(c)] = hyper_parameters[\"W\" + str(c)] - learning_rate * gradients[\"dW\" + str(c)]\n",
    "        hyper_parameters[\"b\" + str(c)] = hyper_parameters[\"b\" + str(c)] - learning_rate * gradients[\"db\" + str(c)]\n",
    "\n",
    "    return hyper_parameters"
   ]
  },
  {
   "cell_type": "code",
   "execution_count": 9,
   "id": "a8229d1b-13bf-4721-818b-a4fbe54fe420",
   "metadata": {
    "scrolled": true
   },
   "outputs": [
    {
     "name": "stdout",
     "output_type": "stream",
     "text": [
      "W1: [[ 0.78330537  0.30522234  0.91291773]\n",
      " [-0.85024016  0.47449834  0.3153001 ]\n",
      " [ 1.4823551   0.18253158  0.61717309]\n",
      " [-0.40902845  0.55809607  0.52284706]]\n",
      "b1: [[-0.03425662]\n",
      " [ 0.66215521]\n",
      " [-0.38505363]\n",
      " [-0.76135142]]\n",
      "W2: [[-0.85825914  1.65473434  1.24851509  1.11161173]\n",
      " [-0.9910866   0.18969109  0.26262079  1.09248317]\n",
      " [-0.19894723 -0.92911477  0.33913925  1.17782227]\n",
      " [ 0.09249134  0.8882588  -0.28010698  1.61030776]\n",
      " [ 0.88504903  0.4836626  -2.5307999   0.44756045]\n",
      " [-1.32667268 -1.79558131 -0.43091676  0.88495638]\n",
      " [-0.93396823 -1.60855331  0.50045708 -1.2187601 ]\n",
      " [ 0.15104089  0.36408938  0.29372956 -0.84896787]]\n",
      "b2: [[ 1.28564749]\n",
      " [-1.60084586]\n",
      " [ 0.82566303]\n",
      " [-1.38445325]\n",
      " [-0.04371379]\n",
      " [ 1.26189052]\n",
      " [-0.17847122]\n",
      " [ 0.04391843]]\n",
      "W3: [[-0.75443261  1.48947755  0.0781383  -0.27107244  0.61392213 -1.97661437\n",
      "  -0.78703178 -0.21663394]\n",
      " [ 1.0594025  -0.04418794 -0.70981927  1.6111494   0.12151371 -0.51504891\n",
      "  -0.55247946 -2.23398004]\n",
      " [ 0.64713585  0.27652684  1.33868736 -0.66413087  2.28535869 -1.25818124\n",
      "  -1.18314045 -0.51131652]\n",
      " [-0.34441844  1.83367684  0.83662603  0.4688485  -0.42393061  0.73780978\n",
      "  -1.03264473 -1.02916381]\n",
      " [-0.36979051  0.19556642  0.67313103  0.90262522 -0.41134481  2.24177885\n",
      "  -0.37953895 -1.33894277]\n",
      " [-0.08535579 -0.12264353 -1.10775199 -0.08868641  2.17123927 -0.91488425\n",
      "  -0.11102517 -0.43002348]\n",
      " [ 0.85635754 -0.84349978  0.77598666  0.71618216  0.3133527  -0.62765322\n",
      "  -1.34698408  0.29782051]\n",
      " [-0.76072426  0.25643836 -0.5013075   0.8220099   0.72663011  0.39363394\n",
      "  -0.66005893 -0.72776515]\n",
      " [ 0.35139077  1.11291922  0.57323773 -0.08556525 -0.03352155  0.34767586\n",
      "   0.80450585 -0.88263513]\n",
      " [-0.65037111 -0.09183093  0.23116985  1.51836648 -1.52336995  0.626277\n",
      "   0.26719405 -0.0483777 ]\n",
      " [-0.58445811  0.71610572 -0.34990282  0.77496538 -1.20621537 -0.7158953\n",
      "  -0.65561502  1.91454876]\n",
      " [ 0.40801276 -0.83114016  0.05397939  0.30365779 -0.47654375  1.95101245\n",
      "  -1.05529356 -0.52303162]\n",
      " [ 1.04988013 -1.30901466 -0.09979819 -1.72828925 -0.28026371 -0.12604114\n",
      "  -0.79840199  1.34357394]\n",
      " [-0.81023744  0.25749074 -2.19394656  0.82324789  0.4071252   1.58094045\n",
      "   0.86225442 -1.60434555]\n",
      " [ 0.12428996  0.25491582  0.98984632 -0.76296785  0.97794228 -0.19737331\n",
      "   0.10388573 -0.80718137]\n",
      " [-0.89213482 -0.04969113 -1.78157111  0.06079147  0.03876059  0.60218476\n",
      "  -0.42103919  0.10707034]]\n",
      "b3: [[-1.0021364 ]\n",
      " [ 0.98394025]\n",
      " [ 1.33675444]\n",
      " [-0.02492743]\n",
      " [ 0.57870077]\n",
      " [ 3.0331853 ]\n",
      " [ 0.09349089]\n",
      " [ 0.05009925]\n",
      " [ 0.97956233]\n",
      " [ 0.13282918]\n",
      " [-0.675946  ]\n",
      " [-1.04705762]\n",
      " [ 0.87812324]\n",
      " [-0.46773624]\n",
      " [-1.51252772]\n",
      " [ 0.72953617]]\n",
      "W4: [[-2.16064584  1.39010999  0.73846798  2.16308416  1.13815095 -0.94570822\n",
      "  -0.46510594  0.44529826 -0.78060311  0.87102222 -1.00206804 -0.16705232\n",
      "  -1.87516225  0.81682125  1.49216634  1.49494716]]\n",
      "b4: [[0.59686511]]\n",
      "W1: [[ 0.78348518  0.30553286  0.91364968]\n",
      " [-0.84725151  0.4739317   0.31526191]\n",
      " [ 1.48333905  0.18220701  0.61804048]\n",
      " [-0.40783378  0.55080705  0.51722735]]\n",
      "b1: [[-0.02337439]\n",
      " [ 0.67180419]\n",
      " [-0.37886298]\n",
      " [-0.79057071]]\n",
      "W2: [[-0.8569034   1.65638275  1.24979783  1.11247144]\n",
      " [-0.99815997  0.18021137  0.25647863  1.08716158]\n",
      " [-0.20037755 -0.93017324  0.33774368  1.17711633]\n",
      " [ 0.07583255  0.8675185  -0.29471271  1.5985266 ]\n",
      " [ 0.88562329  0.48409593 -2.53024408  0.44783795]\n",
      " [-1.34400447 -1.81689625 -0.44645265  0.87300944]\n",
      " [-0.93207774 -1.60678433  0.50245607 -1.21786385]\n",
      " [ 0.18100976  0.39986547  0.32078877 -0.82877549]]\n",
      "b2: [[ 1.28848183]\n",
      " [-1.61541118]\n",
      " [ 0.8236939 ]\n",
      " [-1.41670344]\n",
      " [-0.04291707]\n",
      " [ 1.22789859]\n",
      " [-0.17488382]\n",
      " [ 0.10150705]]\n",
      "W3: [[-0.73844915  1.49269277  0.08949258 -0.26367623  0.62145017 -1.97010873\n",
      "  -0.78469826 -0.20744638]\n",
      " [ 1.03406663 -0.04911374 -0.72795058  1.60025757  0.11031279 -0.52580578\n",
      "  -0.55677374 -2.24882857]\n",
      " [ 0.64313702  0.27577342  1.33579411 -0.66576478  2.28371262 -1.25990107\n",
      "  -1.18388432 -0.51369233]\n",
      " [-0.38964239  1.82474378  0.80436854  0.44883369 -0.44451138  0.71882338\n",
      "  -1.03993328 -1.0554622 ]\n",
      " [-0.38851775  0.19190019  0.65974671  0.89435692 -0.41974416  2.23401385\n",
      "  -0.38254216 -1.34985252]\n",
      " [-0.07941932 -0.12152829 -1.10344978 -0.08623081  2.17366237 -0.91238654\n",
      "  -0.10995367 -0.42650317]\n",
      " [ 0.86254278 -0.84229017  0.78040895  0.71883398  0.31611152 -0.62498945\n",
      "  -1.3459181   0.30144448]\n",
      " [-0.76912117  0.25475212 -0.50726981  0.81821194  0.7226876   0.39011188\n",
      "  -0.66136063 -0.73261538]\n",
      " [ 0.36043847  1.11470549  0.57969009 -0.08153483 -0.02940091  0.35143613\n",
      "   0.80593632 -0.87738   ]\n",
      " [-0.66863233 -0.09544322  0.21814356  1.51026441 -1.53169105  0.61861896\n",
      "   0.26426217 -0.05898939]\n",
      " [-0.56682662  0.71956256 -0.33729208  0.78277005 -1.19832067 -0.708598\n",
      "  -0.65279556  1.9248124 ]\n",
      " [ 0.41129418 -0.83048919  0.05631799  0.30511288 -0.47504088  1.9523963\n",
      "  -1.05476476 -0.52112539]\n",
      " [ 1.07689105 -1.3035292  -0.08064906 -1.71588016 -0.26736661 -0.1147336\n",
      "  -0.79431564  1.35910069]\n",
      " [-0.81626217  0.25625438 -2.19819591  0.82052238  0.40418515  1.57831524\n",
      "   0.8612986  -1.60781414]\n",
      " [ 0.10051609  0.25017344  0.97293049 -0.77359716  0.9669253  -0.20738907\n",
      "   0.10010988 -0.82095871]\n",
      " [-0.91645897 -0.05453755 -1.79887094  0.04997472  0.02750212  0.59188605\n",
      "  -0.42494116  0.09295627]]\n",
      "b3: [[-0.98522322]\n",
      " [ 0.95696611]\n",
      " [ 1.33248083]\n",
      " [-0.07297152]\n",
      " [ 0.55881045]\n",
      " [ 3.03951965]\n",
      " [ 0.10008101]\n",
      " [ 0.04119196]\n",
      " [ 0.98916677]\n",
      " [ 0.11343293]\n",
      " [-0.65722433]\n",
      " [-1.0435716 ]\n",
      " [ 0.90674587]\n",
      " [-0.47413477]\n",
      " [-1.53777068]\n",
      " [ 0.70369737]]\n",
      "W4: [[-2.1693503   1.33032983  0.65505616  2.11510736  1.07240384 -1.02802802\n",
      "  -0.53693822  0.41412927 -0.85556523  0.82841347 -1.02892009 -0.20021911\n",
      "  -1.94501858  0.80807785  1.46949459  1.47148803]]\n",
      "b4: [[0.50717167]]\n"
     ]
    }
   ],
   "source": [
    "#Test gradient descendfunctions \n",
    "for key, val in hyper_parameters.items():\n",
    "    print(f\"{key}: {val}\")\n",
    "hyper_parameters = update(gradients, hyper_parameters, learning_rate=0.1)\n",
    "for key, val in hyper_parameters.items():\n",
    "    print(f\"{key}: {val}\")"
   ]
  },
  {
   "cell_type": "code",
   "execution_count": 10,
   "id": "03fc2dec-0e28-4cca-ae6f-e060b74598fc",
   "metadata": {},
   "outputs": [],
   "source": [
    "#Create prediction function to evaluate model \n",
    "def predict(X, hyper_parameters):\n",
    "    n = len(hyper_parameters)//2\n",
    "    activations = forward_propagation(X, hyper_parameters)\n",
    "    Af = activations[\"A\" + str(n)]\n",
    "    return Af >= 0.5"
   ]
  },
  {
   "cell_type": "code",
   "execution_count": 11,
   "id": "647b4425-f1f5-453b-bc20-955ac7ac54d5",
   "metadata": {},
   "outputs": [],
   "source": [
    "from sklearn.metrics import log_loss, accuracy_score\n",
    "from tqdm import tqdm"
   ]
  },
  {
   "cell_type": "code",
   "execution_count": 12,
   "id": "2138977a-1469-49d7-ae39-7e325d3fbded",
   "metadata": {},
   "outputs": [],
   "source": [
    "#Create neural network model \n",
    "def neural_network(X,y, hidden_layers= (32, 32, 32), learning_rate= 0.1, n_iterations= 1000):\n",
    "    #Initialisation\n",
    "    dimensions = list(hidden_layers)\n",
    "    dimensions.insert(0, X.shape[0])\n",
    "    dimensions.append(y.shape[0])\n",
    "    hyper_parameters = initialisation(dimensions)\n",
    "    \n",
    "    #Model log loss and accuracy list of values\n",
    "    model_loss = list()\n",
    "    model_acc  = list()\n",
    "\n",
    "    #Retreive number of layer\n",
    "    n = len(hyper_parameters)//2\n",
    "    \n",
    "    #Apply back propagation to the model for n interations\n",
    "    for i in tqdm(range(n_iterations)):\n",
    "        #Deep Learning model forward propagation\n",
    "        activations = forward_propagation(X, hyper_parameters)\n",
    "        \n",
    "        #Calculate each layer Jacobien matrix and biais vector\n",
    "        gradients = back_propagation(y, hyper_parameters, activations)\n",
    "    \n",
    "        #Correction of the hyper parameteres to reach theirs optimal values\n",
    "        hyper_parameters = update(gradients, hyper_parameters, learning_rate)\n",
    "\n",
    "        \n",
    "        #Calculate and stock the model loss and accuracy values\n",
    "        An = activations[\"A\" + str(n)]\n",
    "        current_loss = log_loss(y.flatten(), An.flatten())\n",
    "        model_loss.append(current_loss)\n",
    "\n",
    "        y_pred = predict(X, hyper_parameters)\n",
    "        current_acc = accuracy_score(y.flatten(), y_pred.flatten())\n",
    "        model_acc.append(current_acc)\n",
    "\n",
    "    plt.figure(figsize=(12,8))\n",
    "    plt.subplot(1,2,1)\n",
    "    plt.title(f\" Log Loss Score: {current_loss}\")\n",
    "    plt.plot(model_loss, label= \"Train Loss\")\n",
    "    plt.legend()\n",
    "\n",
    "    plt.subplot(1,2,2)\n",
    "    plt.title(f\"Accuracy Score: {current_acc}\")\n",
    "    plt.plot(model_acc, label= \"Train Acc\")\n",
    "    plt.legend()\n",
    "\n",
    "    plt.show() \n",
    "    "
   ]
  },
  {
   "cell_type": "code",
   "execution_count": 13,
   "id": "2548caf0-cc08-4b16-9630-8f6cd6bdc342",
   "metadata": {},
   "outputs": [],
   "source": [
    "from sklearn.datasets import make_circles"
   ]
  },
  {
   "cell_type": "code",
   "execution_count": 14,
   "id": "56f763bf-419a-45c0-87cb-e1737f097f32",
   "metadata": {},
   "outputs": [
    {
     "name": "stdout",
     "output_type": "stream",
     "text": [
      "X dim: (2, 100)\n",
      "y dim: (1, 100)\n"
     ]
    },
    {
     "data": {
      "image/png": "[encoded data removed]",
      "text/plain": [
       "<Figure size 640x480 with 1 Axes>"
      ]
     },
     "metadata": {},
     "output_type": "display_data"
    }
   ],
   "source": [
    "X, y = make_circles(n_samples=100, noise=0.1, factor=0.3, random_state=0)\n",
    "X = X.T\n",
    "y = y.reshape((1, y.shape[0]))\n",
    "\n",
    "print(f\"X dim: {X.shape}\")\n",
    "print(f\"y dim: {y.shape}\")\n",
    "\n",
    "plt.scatter(X[0, :], X[1, :], c=y, cmap='coolwarm')\n",
    "plt.show()"
   ]
  },
  {
   "cell_type": "code",
   "execution_count": 15,
   "id": "0b763fa4-cd89-4485-8d7d-260904669584",
   "metadata": {},
   "outputs": [
    {
     "name": "stderr",
     "output_type": "stream",
     "text": [
      "100%|██████████████████████████████████████| 3000/3000 [00:15<00:00, 189.69it/s]\n"
     ]
    },
    {
     "data": {
      "image/png": "[encoded data removed]",
      "text/plain": [
       "<Figure size 1200x800 with 2 Axes>"
      ]
     },
     "metadata": {},
     "output_type": "display_data"
    }
   ],
   "source": [
    "# Test neural network model\n",
    "neural_network(X, y, n_iterations=3000)"
   ]
  },
  {
   "cell_type": "code",
   "execution_count": null,
   "id": "078fde1f-2fbe-4900-a375-91b40a4d5ad3",
   "metadata": {},
   "outputs": [],
   "source": []
  },
  {
   "cell_type": "code",
   "execution_count": null,
   "id": "2e77e2fc-351e-46a7-ba0a-ee3016993f01",
   "metadata": {},
   "outputs": [],
   "source": []
  }
 ],
 "metadata": {
  "kernelspec": {
   "display_name": "Python 3 (ipykernel)",
   "language": "python",
   "name": "python3"
  },
  "language_info": {
   "codemirror_mode": {
    "name": "ipython",
    "version": 3
   },
   "file_extension": ".py",
   "mimetype": "text/x-python",
   "name": "python",
   "nbconvert_exporter": "python",
   "pygments_lexer": "ipython3",
   "version": "3.11.5"
  }
 },
 "nbformat": 4,
 "nbformat_minor": 5
}
